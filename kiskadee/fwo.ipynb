{
 "cells": [
  {
   "cell_type": "code",
   "execution_count": 1,
   "metadata": {},
   "outputs": [],
   "source": [
    "from thermogravimetricAnalysis import TGA\n",
    "tga = TGA()"
   ]
  },
  {
   "cell_type": "code",
   "execution_count": 2,
   "metadata": {},
   "outputs": [
    {
     "data": {
      "text/plain": [
       "'angelim at 20 was loaded!'"
      ]
     },
     "execution_count": 2,
     "metadata": {},
     "output_type": "execute_result"
    }
   ],
   "source": [
    "tga.read('angelim', 5, '../examples/assets/T5/angelim.txt')\n",
    "tga.read('angelim', 10, '../examples/assets/T10/angelim.txt')\n",
    "tga.read('angelim', 15, '../examples/assets/T15/angelim.txt')\n",
    "tga.read('angelim', 20, '../examples/assets/T20/angelim.txt')"
   ]
  },
  {
   "cell_type": "code",
   "execution_count": 3,
   "metadata": {},
   "outputs": [],
   "source": [
    "tga.massLossAndConversions()\n",
    "tga.dtg('angelim')\n"
   ]
  },
  {
   "cell_type": "code",
   "execution_count": 4,
   "metadata": {},
   "outputs": [],
   "source": [
    "for h in [5, 10, 15, 20]:\n",
    "    id_to_drop = tga.data['angelim'][h][tga.data['angelim'][h]['dtg']>0.3] .index.to_list()\n",
    "    tga.removeData(id_to_drop, 'angelim', h)\n",
    "\n",
    "    id_to_drop2 = tga.data['angelim'][h][(tga.data['angelim'][h]['dtg']<=-0.3) & (tga.data['angelim'][h]['temperature']<=200)] .index.to_list()\n",
    "    tga.removeData(id_to_drop2, 'angelim', h)"
   ]
  },
  {
   "cell_type": "code",
   "execution_count": 5,
   "metadata": {},
   "outputs": [],
   "source": [
    "tga.smootDataFull()"
   ]
  },
  {
   "cell_type": "code",
   "execution_count": 6,
   "metadata": {},
   "outputs": [
    {
     "data": {
      "text/html": [
       "<div>\n",
       "<style scoped>\n",
       "    .dataframe tbody tr th:only-of-type {\n",
       "        vertical-align: middle;\n",
       "    }\n",
       "\n",
       "    .dataframe tbody tr th {\n",
       "        vertical-align: top;\n",
       "    }\n",
       "\n",
       "    .dataframe thead th {\n",
       "        text-align: right;\n",
       "    }\n",
       "</style>\n",
       "<table border=\"1\" class=\"dataframe\">\n",
       "  <thead>\n",
       "    <tr style=\"text-align: right;\">\n",
       "      <th></th>\n",
       "      <th>level_0</th>\n",
       "      <th>index</th>\n",
       "      <th>time</th>\n",
       "      <th>temperature</th>\n",
       "      <th>mass</th>\n",
       "      <th>mass_loss</th>\n",
       "      <th>temperature_k</th>\n",
       "      <th>alpha</th>\n",
       "      <th>dtg</th>\n",
       "      <th>dtg_smoothed</th>\n",
       "    </tr>\n",
       "  </thead>\n",
       "  <tbody>\n",
       "    <tr>\n",
       "      <th>0</th>\n",
       "      <td>5</td>\n",
       "      <td>8</td>\n",
       "      <td>8.0</td>\n",
       "      <td>29.659359</td>\n",
       "      <td>10.330079</td>\n",
       "      <td>99.948885</td>\n",
       "      <td>302.809359</td>\n",
       "      <td>0.000511</td>\n",
       "      <td>-0.190406</td>\n",
       "      <td>-0.080895</td>\n",
       "    </tr>\n",
       "    <tr>\n",
       "      <th>1</th>\n",
       "      <td>6</td>\n",
       "      <td>9</td>\n",
       "      <td>9.0</td>\n",
       "      <td>29.695827</td>\n",
       "      <td>10.332101</td>\n",
       "      <td>99.970617</td>\n",
       "      <td>302.845827</td>\n",
       "      <td>0.000294</td>\n",
       "      <td>-0.131830</td>\n",
       "      <td>-0.094930</td>\n",
       "    </tr>\n",
       "    <tr>\n",
       "      <th>2</th>\n",
       "      <td>10</td>\n",
       "      <td>14</td>\n",
       "      <td>14.0</td>\n",
       "      <td>29.785488</td>\n",
       "      <td>10.331188</td>\n",
       "      <td>99.960804</td>\n",
       "      <td>302.935488</td>\n",
       "      <td>0.000392</td>\n",
       "      <td>0.190111</td>\n",
       "      <td>-0.106317</td>\n",
       "    </tr>\n",
       "    <tr>\n",
       "      <th>3</th>\n",
       "      <td>12</td>\n",
       "      <td>16</td>\n",
       "      <td>16.0</td>\n",
       "      <td>29.823046</td>\n",
       "      <td>10.329723</td>\n",
       "      <td>99.945059</td>\n",
       "      <td>302.973046</td>\n",
       "      <td>0.000549</td>\n",
       "      <td>-0.055065</td>\n",
       "      <td>-0.115056</td>\n",
       "    </tr>\n",
       "    <tr>\n",
       "      <th>4</th>\n",
       "      <td>14</td>\n",
       "      <td>18</td>\n",
       "      <td>18.0</td>\n",
       "      <td>29.867874</td>\n",
       "      <td>10.327307</td>\n",
       "      <td>99.919094</td>\n",
       "      <td>303.017874</td>\n",
       "      <td>0.000809</td>\n",
       "      <td>-0.283782</td>\n",
       "      <td>-0.121147</td>\n",
       "    </tr>\n",
       "    <tr>\n",
       "      <th>...</th>\n",
       "      <td>...</td>\n",
       "      <td>...</td>\n",
       "      <td>...</td>\n",
       "      <td>...</td>\n",
       "      <td>...</td>\n",
       "      <td>...</td>\n",
       "      <td>...</td>\n",
       "      <td>...</td>\n",
       "      <td>...</td>\n",
       "      <td>...</td>\n",
       "    </tr>\n",
       "    <tr>\n",
       "      <th>9121</th>\n",
       "      <td>9171</td>\n",
       "      <td>9176</td>\n",
       "      <td>9176.0</td>\n",
       "      <td>809.625793</td>\n",
       "      <td>1.029130</td>\n",
       "      <td>-0.011919</td>\n",
       "      <td>1082.775793</td>\n",
       "      <td>1.000119</td>\n",
       "      <td>0.010213</td>\n",
       "      <td>-0.062849</td>\n",
       "    </tr>\n",
       "    <tr>\n",
       "      <th>9122</th>\n",
       "      <td>9172</td>\n",
       "      <td>9177</td>\n",
       "      <td>9177.0</td>\n",
       "      <td>809.699707</td>\n",
       "      <td>1.031586</td>\n",
       "      <td>0.014477</td>\n",
       "      <td>1082.849707</td>\n",
       "      <td>0.999855</td>\n",
       "      <td>0.061497</td>\n",
       "      <td>-0.073266</td>\n",
       "    </tr>\n",
       "    <tr>\n",
       "      <th>9123</th>\n",
       "      <td>9173</td>\n",
       "      <td>9178</td>\n",
       "      <td>9178.0</td>\n",
       "      <td>809.791992</td>\n",
       "      <td>1.030081</td>\n",
       "      <td>-0.001698</td>\n",
       "      <td>1082.941992</td>\n",
       "      <td>1.000017</td>\n",
       "      <td>0.098441</td>\n",
       "      <td>-0.084889</td>\n",
       "    </tr>\n",
       "    <tr>\n",
       "      <th>9124</th>\n",
       "      <td>9174</td>\n",
       "      <td>9179</td>\n",
       "      <td>9179.0</td>\n",
       "      <td>809.885742</td>\n",
       "      <td>1.033290</td>\n",
       "      <td>0.032790</td>\n",
       "      <td>1083.035742</td>\n",
       "      <td>0.999672</td>\n",
       "      <td>0.009841</td>\n",
       "      <td>-0.097716</td>\n",
       "    </tr>\n",
       "    <tr>\n",
       "      <th>9125</th>\n",
       "      <td>9175</td>\n",
       "      <td>9180</td>\n",
       "      <td>9180.0</td>\n",
       "      <td>809.964539</td>\n",
       "      <td>1.030239</td>\n",
       "      <td>0.000000</td>\n",
       "      <td>1083.114539</td>\n",
       "      <td>1.000000</td>\n",
       "      <td>-0.416136</td>\n",
       "      <td>-0.111749</td>\n",
       "    </tr>\n",
       "  </tbody>\n",
       "</table>\n",
       "<p>9126 rows × 10 columns</p>\n",
       "</div>"
      ],
      "text/plain": [
       "      level_0  index    time  temperature       mass  mass_loss  \\\n",
       "0           5      8     8.0    29.659359  10.330079  99.948885   \n",
       "1           6      9     9.0    29.695827  10.332101  99.970617   \n",
       "2          10     14    14.0    29.785488  10.331188  99.960804   \n",
       "3          12     16    16.0    29.823046  10.329723  99.945059   \n",
       "4          14     18    18.0    29.867874  10.327307  99.919094   \n",
       "...       ...    ...     ...          ...        ...        ...   \n",
       "9121     9171   9176  9176.0   809.625793   1.029130  -0.011919   \n",
       "9122     9172   9177  9177.0   809.699707   1.031586   0.014477   \n",
       "9123     9173   9178  9178.0   809.791992   1.030081  -0.001698   \n",
       "9124     9174   9179  9179.0   809.885742   1.033290   0.032790   \n",
       "9125     9175   9180  9180.0   809.964539   1.030239   0.000000   \n",
       "\n",
       "      temperature_k     alpha       dtg  dtg_smoothed  \n",
       "0        302.809359  0.000511 -0.190406     -0.080895  \n",
       "1        302.845827  0.000294 -0.131830     -0.094930  \n",
       "2        302.935488  0.000392  0.190111     -0.106317  \n",
       "3        302.973046  0.000549 -0.055065     -0.115056  \n",
       "4        303.017874  0.000809 -0.283782     -0.121147  \n",
       "...             ...       ...       ...           ...  \n",
       "9121    1082.775793  1.000119  0.010213     -0.062849  \n",
       "9122    1082.849707  0.999855  0.061497     -0.073266  \n",
       "9123    1082.941992  1.000017  0.098441     -0.084889  \n",
       "9124    1083.035742  0.999672  0.009841     -0.097716  \n",
       "9125    1083.114539  1.000000 -0.416136     -0.111749  \n",
       "\n",
       "[9126 rows x 10 columns]"
      ]
     },
     "execution_count": 6,
     "metadata": {},
     "output_type": "execute_result"
    }
   ],
   "source": [
    "tga.data['angelim'][5]"
   ]
  },
  {
   "cell_type": "code",
   "execution_count": null,
   "metadata": {},
   "outputs": [],
   "source": [
    "import numpy as np"
   ]
  },
  {
   "cell_type": "code",
   "execution_count": 78,
   "metadata": {},
   "outputs": [],
   "source": [
    "def FWO(sample, alpha_min=0.1, alpha_max=0.8, alpha_space=0.1):\n",
    "    \n",
    "    alpha_range = np.arange(alpha_min, alpha_max+0.001, alpha_space)\n",
    "    data = tga.data[sample]\n",
    "    heatingRate = tga.sampleHeatingRates[sample]\n",
    "    result = []\n",
    "    alpha_result = []\n",
    "    for alpha in alpha_range:\n",
    "        for hr in heatingRate:\n",
    "            id = data[hr][data[hr]['alpha'] < alpha]['index'].idxmax()\n",
    "            temperature = data[hr].iloc[id]['temperature_k']\n",
    "            time = data[hr].iloc[id]['time']\n",
    "            alpha_result.append( (alpha, 1/temperature, temperature, time) )\n",
    "            \n",
    "        result.append( alpha_result )\n",
    "        alpha_result = []\n",
    "\n",
    "    return result"
   ]
  },
  {
   "cell_type": "code",
   "execution_count": 79,
   "metadata": {},
   "outputs": [],
   "source": [
    "r = FWO('angelim')"
   ]
  },
  {
   "cell_type": "code",
   "execution_count": 81,
   "metadata": {},
   "outputs": [
    {
     "data": {
      "text/plain": [
       "[(0.1, 0.0018678651601813639, 535.370551, 2848.0),\n",
       " (0.1, 0.0018141532435200485, 551.22135, 1546.0),\n",
       " (0.1, 0.0018618443948540536, 537.101813, 990.0),\n",
       " (0.1, 0.0018454930960269374, 541.860602, 769.0)]"
      ]
     },
     "execution_count": 81,
     "metadata": {},
     "output_type": "execute_result"
    }
   ],
   "source": [
    "r[0]"
   ]
  },
  {
   "cell_type": "code",
   "execution_count": 74,
   "metadata": {},
   "outputs": [],
   "source": [
    "data = tga.data['angelim']"
   ]
  },
  {
   "cell_type": "code",
   "execution_count": 77,
   "metadata": {},
   "outputs": [
    {
     "data": {
      "text/plain": [
       "0          8\n",
       "1          9\n",
       "2         14\n",
       "3         16\n",
       "4         18\n",
       "        ... \n",
       "2789    2844\n",
       "2790    2845\n",
       "2791    2846\n",
       "2792    2847\n",
       "2793    2848\n",
       "Name: index, Length: 2794, dtype: int64"
      ]
     },
     "execution_count": 77,
     "metadata": {},
     "output_type": "execute_result"
    }
   ],
   "source": [
    "data[5][data[5]['alpha'] < 0.1]['index']"
   ]
  },
  {
   "cell_type": "code",
   "execution_count": 48,
   "metadata": {},
   "outputs": [
    {
     "data": {
      "text/plain": [
       "535.370551"
      ]
     },
     "execution_count": 48,
     "metadata": {},
     "output_type": "execute_result"
    }
   ],
   "source": [
    "tga.data['angelim'][5].iloc[2793]['temperature_k']"
   ]
  },
  {
   "cell_type": "code",
   "execution_count": 7,
   "metadata": {},
   "outputs": [
    {
     "data": {
      "text/plain": [
       "{'angelim': [5, 10, 15, 20]}"
      ]
     },
     "execution_count": 7,
     "metadata": {},
     "output_type": "execute_result"
    }
   ],
   "source": [
    "tga.sampleHeatingRates"
   ]
  },
  {
   "cell_type": "code",
   "execution_count": 36,
   "metadata": {},
   "outputs": [
    {
     "data": {
      "text/plain": [
       "array([ 0.        ,  1.11111111,  2.22222222,  3.33333333,  4.44444444,\n",
       "        5.55555556,  6.66666667,  7.77777778,  8.88888889, 10.        ])"
      ]
     },
     "execution_count": 36,
     "metadata": {},
     "output_type": "execute_result"
    }
   ],
   "source": []
  },
  {
   "cell_type": "code",
   "execution_count": 18,
   "metadata": {},
   "outputs": [
    {
     "data": {
      "text/plain": [
       "array([0.   , 0.125, 0.25 , 0.375, 0.5  , 0.625, 0.75 , 0.875, 1.   ])"
      ]
     },
     "execution_count": 18,
     "metadata": {},
     "output_type": "execute_result"
    }
   ],
   "source": [
    "np.linspace(0, 1, num=9)"
   ]
  }
 ],
 "metadata": {
  "kernelspec": {
   "display_name": "Python 3",
   "language": "python",
   "name": "python3"
  },
  "language_info": {
   "codemirror_mode": {
    "name": "ipython",
    "version": 3
   },
   "file_extension": ".py",
   "mimetype": "text/x-python",
   "name": "python",
   "nbconvert_exporter": "python",
   "pygments_lexer": "ipython3",
   "version": "3.8.10"
  },
  "orig_nbformat": 4
 },
 "nbformat": 4,
 "nbformat_minor": 2
}
